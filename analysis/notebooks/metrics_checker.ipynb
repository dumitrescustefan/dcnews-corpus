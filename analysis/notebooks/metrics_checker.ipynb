{
 "cells": [
  {
   "cell_type": "code",
   "execution_count": 1,
   "id": "16008a92",
   "metadata": {},
   "outputs": [],
   "source": [
    "import pandas as pd"
   ]
  },
  {
   "cell_type": "code",
   "execution_count": 2,
   "id": "bedcbbe9",
   "metadata": {},
   "outputs": [],
   "source": [
    "all_data_df = pd.read_pickle('all_data_m1.pkl')"
   ]
  },
  {
   "cell_type": "code",
   "execution_count": 3,
   "id": "45051e13",
   "metadata": {},
   "outputs": [
    {
     "data": {
      "text/html": [
       "<div>\n",
       "<style scoped>\n",
       "    .dataframe tbody tr th:only-of-type {\n",
       "        vertical-align: middle;\n",
       "    }\n",
       "\n",
       "    .dataframe tbody tr th {\n",
       "        vertical-align: top;\n",
       "    }\n",
       "\n",
       "    .dataframe thead th {\n",
       "        text-align: right;\n",
       "    }\n",
       "</style>\n",
       "<table border=\"1\" class=\"dataframe\">\n",
       "  <thead>\n",
       "    <tr style=\"text-align: right;\">\n",
       "      <th></th>\n",
       "      <th>title</th>\n",
       "      <th>text</th>\n",
       "      <th>tags</th>\n",
       "      <th>date</th>\n",
       "      <th>subcategory</th>\n",
       "      <th>category</th>\n",
       "      <th>sim_score_m1</th>\n",
       "    </tr>\n",
       "  </thead>\n",
       "  <tbody>\n",
       "    <tr>\n",
       "      <th>0</th>\n",
       "      <td>Aplicaţia de telefon cu care poţi face POZE 3D</td>\n",
       "      <td>Aplicația se numește LucidPix și a fost până a...</td>\n",
       "      <td>[android, iphone, poze 3d, telefon]</td>\n",
       "      <td>17 iun 2020 / 16:07</td>\n",
       "      <td>[Tehnologie, Tehnologie]</td>\n",
       "      <td>Tehnologie</td>\n",
       "      <td>0.187457</td>\n",
       "    </tr>\n",
       "    <tr>\n",
       "      <th>1</th>\n",
       "      <td>Cum să dezactivezi anunțurile din Windows 10 ș...</td>\n",
       "      <td>Anunțurile din Windows 10 pot fi enervante și ...</td>\n",
       "      <td>[ads, adverts, anunturi, cum sa, start, window...</td>\n",
       "      <td>06 feb 2020 / 14:17</td>\n",
       "      <td>[Lifestyle]</td>\n",
       "      <td>Tehnologie</td>\n",
       "      <td>0.081161</td>\n",
       "    </tr>\n",
       "    <tr>\n",
       "      <th>2</th>\n",
       "      <td>Acasă la cel mai MARE jucător de sporturi ELEC...</td>\n",
       "      <td>Într-o postare pe Instagram, BBC a postat imag...</td>\n",
       "      <td>[casa, electronice, jocuri, johan sundstein, n...</td>\n",
       "      <td>17 ian 2021 / 15:13</td>\n",
       "      <td>[Stiri, Internațional]</td>\n",
       "      <td>Tehnologie</td>\n",
       "      <td>0.103785</td>\n",
       "    </tr>\n",
       "    <tr>\n",
       "      <th>3</th>\n",
       "      <td>De ce suntem mințiți despre capacitatea de sto...</td>\n",
       "      <td>Dacă ați cumpărat vreodată un HDD (Hard Disk D...</td>\n",
       "      <td>[capacitate, hdd, memorie ram, memorie rom, ss...</td>\n",
       "      <td>03 feb 2020 / 14:14</td>\n",
       "      <td>[Lifestyle]</td>\n",
       "      <td>Tehnologie</td>\n",
       "      <td>0.289931</td>\n",
       "    </tr>\n",
       "    <tr>\n",
       "      <th>4</th>\n",
       "      <td>Wikipedia, SCHIMBARE după 10 ani! La ce să se ...</td>\n",
       "      <td>Conform The Verge, versiunea de desktop a site...</td>\n",
       "      <td>[international, site, tehnologie, wikipedia]</td>\n",
       "      <td>24 sep 2020 / 08:16</td>\n",
       "      <td>[Tehnologie, Tehnologie]</td>\n",
       "      <td>Tehnologie</td>\n",
       "      <td>0.047386</td>\n",
       "    </tr>\n",
       "  </tbody>\n",
       "</table>\n",
       "</div>"
      ],
      "text/plain": [
       "                                               title  \\\n",
       "0     Aplicaţia de telefon cu care poţi face POZE 3D   \n",
       "1  Cum să dezactivezi anunțurile din Windows 10 ș...   \n",
       "2  Acasă la cel mai MARE jucător de sporturi ELEC...   \n",
       "3  De ce suntem mințiți despre capacitatea de sto...   \n",
       "4  Wikipedia, SCHIMBARE după 10 ani! La ce să se ...   \n",
       "\n",
       "                                                text  \\\n",
       "0  Aplicația se numește LucidPix și a fost până a...   \n",
       "1  Anunțurile din Windows 10 pot fi enervante și ...   \n",
       "2  Într-o postare pe Instagram, BBC a postat imag...   \n",
       "3  Dacă ați cumpărat vreodată un HDD (Hard Disk D...   \n",
       "4  Conform The Verge, versiunea de desktop a site...   \n",
       "\n",
       "                                                tags                 date  \\\n",
       "0                [android, iphone, poze 3d, telefon]  17 iun 2020 / 16:07   \n",
       "1  [ads, adverts, anunturi, cum sa, start, window...  06 feb 2020 / 14:17   \n",
       "2  [casa, electronice, jocuri, johan sundstein, n...  17 ian 2021 / 15:13   \n",
       "3  [capacitate, hdd, memorie ram, memorie rom, ss...  03 feb 2020 / 14:14   \n",
       "4       [international, site, tehnologie, wikipedia]  24 sep 2020 / 08:16   \n",
       "\n",
       "                subcategory    category  sim_score_m1  \n",
       "0  [Tehnologie, Tehnologie]  Tehnologie      0.187457  \n",
       "1               [Lifestyle]  Tehnologie      0.081161  \n",
       "2    [Stiri, Internațional]  Tehnologie      0.103785  \n",
       "3               [Lifestyle]  Tehnologie      0.289931  \n",
       "4  [Tehnologie, Tehnologie]  Tehnologie      0.047386  "
      ]
     },
     "execution_count": 3,
     "metadata": {},
     "output_type": "execute_result"
    }
   ],
   "source": [
    "all_data_df.head()"
   ]
  },
  {
   "cell_type": "code",
   "execution_count": 4,
   "id": "e254f207",
   "metadata": {},
   "outputs": [
    {
     "data": {
      "text/plain": [
       "0.7659572453964345"
      ]
     },
     "execution_count": 4,
     "metadata": {},
     "output_type": "execute_result"
    }
   ],
   "source": [
    "max(all_data_df.sim_score_m1)"
   ]
  },
  {
   "cell_type": "code",
   "execution_count": 6,
   "id": "1284b7ef",
   "metadata": {},
   "outputs": [
    {
     "data": {
      "text/plain": [
       "<AxesSubplot:>"
      ]
     },
     "execution_count": 6,
     "metadata": {},
     "output_type": "execute_result"
    },
    {
     "data": {
      "image/png": "[encoded data removed]",
      "text/plain": [
       "<Figure size 432x288 with 1 Axes>"
      ]
     },
     "metadata": {
      "needs_background": "light"
     },
     "output_type": "display_data"
    }
   ],
   "source": [
    "all_data_df.boxplot(column=['sim_score_m1'])"
   ]
  },
  {
   "cell_type": "code",
   "execution_count": null,
   "id": "9d4c197e",
   "metadata": {},
   "outputs": [],
   "source": []
  }
 ],
 "metadata": {
  "kernelspec": {
   "display_name": "Python 3 (ipykernel)",
   "language": "python",
   "name": "python3"
  },
  "language_info": {
   "codemirror_mode": {
    "name": "ipython",
    "version": 3
   },
   "file_extension": ".py",
   "mimetype": "text/x-python",
   "name": "python",
   "nbconvert_exporter": "python",
   "pygments_lexer": "ipython3",
   "version": "3.8.10"
  }
 },
 "nbformat": 4,
 "nbformat_minor": 5
}
